{
 "cells": [
  {
   "cell_type": "markdown",
   "metadata": {},
   "source": [
    "# YAHOO電影爬蟲練習\n",
    "## 練習爬取電影放映資訊。必須逐步獲取電影的代號、放映地區、放映日期後，再送出查詢給伺服器。"
   ]
  },
  {
   "cell_type": "code",
   "execution_count": 17,
   "metadata": {},
   "outputs": [],
   "source": [
    "import requests\n",
    "import re\n",
    "from bs4 import BeautifulSoup"
   ]
  },
  {
   "cell_type": "markdown",
   "metadata": {},
   "source": [
    "### 先搜尋全部的電影代號(ID)資訊"
   ]
  },
  {
   "cell_type": "code",
   "execution_count": 18,
   "metadata": {},
   "outputs": [
    {
     "name": "stdout",
     "output_type": "stream",
     "text": [
      "Movie: 最後的情書, ID: 10880\n",
      "Movie: 聖雅各的天空, ID: 10877\n",
      "Movie: 看不見的證人, ID: 10873\n",
      "Movie: 午夜0時的吻, ID: 10855\n",
      "Movie: 爆裂魔神少女, ID: 10853\n",
      "Movie: 初心, ID: 10837\n",
      "Movie: 高盧英雄歷險記：魔法藥水, ID: 10834\n",
      "Movie: 下一站，托斯卡尼, ID: 10817\n",
      "Movie: 冬天的故事 經典數位修復, ID: 10739\n",
      "Movie: 秋天的故事 經典數位修復, ID: 10738\n",
      "Movie: 可不可以，你也剛好喜歡我, ID: 10473\n",
      "Movie: 羊與鋼之森, ID: 8460\n",
      "Movie: 棕櫚泉不思議, ID: 10864\n",
      "Movie: 東京教父：4K數位修復版, ID: 10860\n",
      "Movie: Fate/stay night [Heaven's Feel] III.春櫻之歌, ID: 10630\n",
      "Movie: 椿花散落, ID: 10852\n",
      "Movie: 劇場版 新幹線變形機器人—來自未來的神速ALFA-X, ID: 10823\n",
      "Movie: 我的兒子是死刑犯, ID: 10782\n",
      "Movie: 夏天的故事 經典數位修復, ID: 10737\n",
      "Movie: 春天的故事 經典數位修復, ID: 10736\n",
      "Movie: 逃出立法院, ID: 10535\n",
      "Movie: 全面啟動10周年紀念版, ID: 10867\n",
      "Movie: 天劫倒數, ID: 10850\n",
      "Movie: 魔鬼對決, ID: 10842\n",
      "Movie: 皮行者, ID: 10794\n",
      "Movie: 逆者, ID: 10875\n",
      "Movie: 巴亞拉魔幻冒險, ID: 10851\n",
      "Movie: 隱藏的畫家, ID: 10841\n",
      "Movie: 地下社會, ID: 10840\n",
      "Movie: 心靈咖啡館的驅魔師, ID: 10830\n",
      "Movie: 6號鬼病床, ID: 10826\n",
      "Movie: 家靈, ID: 10798\n",
      "Movie: 陰眼, ID: 10795\n",
      "Movie: 哈囉少女, ID: 10780\n",
      "Movie: 怪胎, ID: 10733\n",
      "Movie: 原本以為只是手機掉了2：被囚禁的殺人魔, ID: 10713\n",
      "Movie: 記憶拼圖：20週年數位修復, ID: 10849\n",
      "Movie: 追殺艾娃, ID: 10821\n",
      "Movie: 阿紫, ID: 10828\n",
      "Movie: 屍人莊殺人事件, ID: 10819\n",
      "Movie: 我們仍未知道那天所看見的花名 劇場版, ID: 10818\n",
      "Movie: 北海小英雄, ID: 10806\n",
      "Movie: 守靈魘, ID: 10805\n",
      "Movie: 失眠的北風吹來愛情, ID: 10790\n",
      "Movie: 日間演奏會散場時, ID: 10245\n",
      "Movie: 鋼鐵雨：深潛行動, ID: 10838\n",
      "Movie: 超危險駕駛, ID: 10712\n",
      "Movie: 《新天堂樂園》30週年數位修復版, ID: 10825\n",
      "Movie: 翻供, ID: 10788\n",
      "Movie: 不丹是教室, ID: 10789\n",
      "Movie: 藍色恐懼：數位修復版, ID: 10775\n",
      "Movie: 屍速列車：感染半島, ID: 10608\n",
      "Movie: 打噴嚏, ID: 5350\n",
      "Movie: 角落小夥伴電影版：魔法繪本裡的新朋友, ID: 10647\n",
      "Movie: 超能西蒙的奇幻旅程, ID: 10754\n",
      "Movie: 頭號粉絲, ID: 10722\n",
      "Movie: 破處, ID: 10641\n",
      "Movie: 捕魔網, ID: 10727\n",
      "Movie: 福島50英雄, ID: 10726\n",
      "Movie: 阿基拉, ID: 10710\n",
      "Movie: 失控特工, ID: 10734\n",
      "Movie: 明信片謀殺案, ID: 10724\n",
      "Movie: 最瘋狂的旅程, ID: 10705\n",
      "Movie: 決戰最前線, ID: 10699\n",
      "Movie: 深海擴散, ID: 10697\n",
      "Movie: 親愛陌生人, ID: 10643\n",
      "Movie: 婚姻大崩壞, ID: 10534\n",
      "Movie: 淒厲人僧, ID: 10578\n",
      "Movie: 愛美獎行動, ID: 10600\n",
      "Movie: 雙面遊戲, ID: 10642\n",
      "Movie: 靠北少女, ID: 10575\n",
      "Movie: 1/2的魔法, ID: 10505\n",
      "Movie: 奪命隧道, ID: 10599\n",
      "Movie: 海邊走走, ID: 10495\n",
      "Movie: 正在相愛嗎？, ID: 10615\n",
      "Movie: 見鬼的戀愛季節, ID: 10612\n",
      "Movie: 海上鋼琴師4K數位修復, ID: 10613\n",
      "Movie: 居禮夫人：放射永恆, ID: 10537\n",
      "Movie: 女聲我最美, ID: 10528\n",
      "Movie: 間諜速成班, ID: 10538\n",
      "Movie: 魔髮精靈唱遊世界, ID: 10466\n",
      "Movie: 絕命直播, ID: 10548\n",
      "Movie: 迷雁返家路, ID: 10533\n",
      "Movie: 刺激1995, ID: 10518\n",
      "Movie: 血衛, ID: 10469\n",
      "Movie: 音速小子, ID: 9246\n",
      "Movie: 紅鞋公主與七矮人, ID: 10417\n",
      "Movie: 變身特務, ID: 9008\n",
      "Movie: 你的名字, ID: 6467\n",
      "Movie: 一首搖滾上月球, ID: 4887\n",
      "Movie: 追逐繁星的孩子, ID: 4065\n",
      "Movie: 錢不夠用2, ID: 3026\n"
     ]
    }
   ],
   "source": [
    "# 查看目前上映那些電影，並擷取出其ID資訊\n",
    "url = 'https://movies.yahoo.com.tw/'\n",
    "resp = requests.get(url)\n",
    "resp.encoding = 'utf-8'\n",
    "\n",
    "soup = BeautifulSoup(resp.text, 'lxml')\n",
    "html = soup.find(\"select\", attrs={'name':'movie_id'})\n",
    "movie_item = html.find_all(\"option\", attrs={'data-name':re.compile('.*')})\n",
    "\n",
    "for p in movie_item:\n",
    "    print(\"Movie: %s, ID: %s\" % (p[\"data-name\"], p[\"value\"]))"
   ]
  },
  {
   "cell_type": "markdown",
   "metadata": {},
   "source": [
    "### 指定你有興趣的電影其ID，然後查詢其放映地區資訊。"
   ]
  },
  {
   "cell_type": "code",
   "execution_count": 19,
   "metadata": {},
   "outputs": [],
   "source": [
    "# 參考前一個步驟中擷取到的ID資訊，並指定ID\n",
    "movie_id = 10630"
   ]
  },
  {
   "cell_type": "code",
   "execution_count": 20,
   "metadata": {},
   "outputs": [
    {
     "name": "stdout",
     "output_type": "stream",
     "text": [
      "放映地區: 台北市, 代號(area_id): 28\n",
      "放映地區: 新北市, 代號(area_id): 8\n",
      "放映地區: 桃園, 代號(area_id): 16\n",
      "放映地區: 新竹, 代號(area_id): 20\n",
      "放映地區: 苗栗, 代號(area_id): 15\n",
      "放映地區: 台中, 代號(area_id): 2\n",
      "放映地區: 台南, 代號(area_id): 10\n",
      "放映地區: 高雄, 代號(area_id): 17\n",
      "放映地區: 花蓮, 代號(area_id): 12\n"
     ]
    }
   ],
   "source": [
    "url = 'https://movies.yahoo.com.tw/api/v1/areas_by_movie_theater'\n",
    "payload = {'movie_id':str(movie_id)}\n",
    "\n",
    "# 模擬一個header\n",
    "headers = {\n",
    "    'authority': 'movies.yahoo.com.tw',\n",
    "    'method': 'GET',\n",
    "    'path': '/api/v1/areas_by_movie_theater?movie_id=' + str(movie_id),\n",
    "    'scheme': 'https',\n",
    "    'accept': 'application/json, text/javascript, */*; q=0.01',\n",
    "    'accept-encoding': 'gzip, deflate, br',\n",
    "    'accept-language': 'zh-TW,zh;q=0.9,en-US;q=0.8,en;q=0.7,zh-CN;q=0.6',\n",
    "    'cookie': 'rxx=9s3x2fws06.1g16irnc&v=1; _ga=GA1.3.2056742944.1551651301; GUC=AQEBAQFczFpdm0IfmwSB&s=AQAAACoo4N5D&g=XMsVBw; BX=4hkdk1decm57t&b=3&s=mr; _ga=GA1.4.2056742944.1551651301; nexagesuid=82843256dd234e8e91aa73f2062f8218; browsed_movie=eyJpdiI6IlJXWWtiSWJaZlNGK2MxQnhscnVUYWc9PSIsInZhbHVlIjoiMXRhMmVHRXRIeUNjc1RBWDJzdGYwbnlIQURmWGsrcjJSMzhkbkcraDNJVUNIZEZsbzU3amlFcVZ1NzlmazJrTGpoMjVrbHk1YmpoRENXaHZTOUw1TmI2ZTZVWHdOejZQZm16RmVuMWlHTTJLaTZLVFZZVkFOMDlTd1wvSGltcytJIiwibWFjIjoiZWQ2ZjA4MmVjZmZlYjlmNjJmYmY2NGMyMDI0Njc0NWViYjVkOWE2NDg0N2RhODMxZjBjZDhiMmJhZTc2MDZhYiJ9; avi=eyJpdiI6Im1NeWFJRlVRWDR1endEcGRGUGJUbVE9PSIsInZhbHVlIjoickRpU3JuUytmcGl6cjF5OW0rNU9iZz09IiwibWFjIjoiY2VmY2NkNzZmM2NhNjY5YzlkOTcyNjE5OGEyMzU0NWYxOTdmMDRkMDY3OWNmMmZjOTMxYjc5MjI5N2Q5NGE5MiJ9; cmp=t=1559391030&j=0; _gid=GA1.4.779543841.1559391031; XSRF-TOKEN=eyJpdiI6IkhpS2hGcDRQaHlmWUJmaHdSS2Q2bHc9PSIsInZhbHVlIjoiOUVoNFk4OHI1UUZmUWRtYXhza0MyWjJSTlhlZ3RnT0VGeVJPN2JuczVRMGRFdWt2OUlsamVKeHRobFwvcHBGM0dhU3VyMXNGTHlsb2dVM2l0U1hpUGxBPT0iLCJtYWMiOiJkZWU4YzJhNjAxMTY3MzE4Y2ExNWIxYmE1ZjE1YWZlZTlhOTcyYjc4M2RlZGY4ZWNjZDYyMTA2NGYwZGViMzc2In0%3D; m_s=eyJpdiI6InpsZHZ2Tk1BZ0dxaHhETml1RjBnUXc9PSIsInZhbHVlIjoiSkNGeHUranRoXC85bDFiaDhySTJqNkJRcWdjWUxjeVRJSHVYZ1wvd2d4bWJZUTUrSHVDM0lUcW5KNHdETFZ4T1lieU81OUhzc1VoUXhZcWk0UDZSQXVFdz09IiwibWFjIjoiYmJkMDJkMDhlODIzMzcyMWY4M2NmYWNjNGVlOWRjMDIwZmVmNzAyMjE3Yzg3ZGY3ODBkZWEzZTI4MTI5ZWNmOSJ9; _gat=1; nexagesd=10',\n",
    "    'dnt': '1',\n",
    "    'mv-authorization': '21835b082e15b91a69b3851eec7b31b82ce82afb',\n",
    "    'referer': 'https://movies.yahoo.com.tw/',\n",
    "    'user-agent': 'Mozilla/5.0 (Windows NT 10.0; Win64; x64) AppleWebKit/537.36 (KHTML, like Gecko) Chrome/74.0.3729.169 Safari/537.36',\n",
    "    'x-requested-with': 'XMLHttpRequest',\n",
    "}\n",
    "    \n",
    "resp = requests.get(url, params=payload, headers=headers)\n",
    "#print(resp.json())  # 若有需要，列印出json原始碼\n",
    "\n",
    "# 這裡回傳的格式是JSON格式的資料，要解析JSON擷取資料\n",
    "for p in resp.json():\n",
    "    print('放映地區: {0}, 代號(area_id): {1}'.format(p['title'], p['area_id']))"
   ]
  },
  {
   "cell_type": "markdown",
   "metadata": {},
   "source": [
    "### 指定你想要觀看的放映地區，查詢有上映電影的場次日期"
   ]
  },
  {
   "cell_type": "code",
   "execution_count": 21,
   "metadata": {},
   "outputs": [],
   "source": [
    "# 指定放映地區\n",
    "area_id = 28"
   ]
  },
  {
   "cell_type": "code",
   "execution_count": 22,
   "metadata": {},
   "outputs": [
    {
     "name": "stdout",
     "output_type": "stream",
     "text": [
      "八月 23\n",
      "八月 24\n",
      "八月 25\n",
      "八月 26\n",
      "八月 27\n"
     ]
    }
   ],
   "source": [
    "# 向網站發送請求\n",
    "url = 'https://movies.yahoo.com.tw/movietime_result.html'\n",
    "payload = {'movie_id':str(movie_id), 'area_id':str(area_id)}\n",
    "resp = requests.get(url, params=payload)\n",
    "resp.encoding = 'utf-8'\n",
    "\n",
    "soup = BeautifulSoup(resp.text, 'lxml')\n",
    "movie_date = soup.find_all(\"label\", attrs={'for':re.compile(\"date_[\\d]\")})\n",
    "\n",
    "# 列印播放日期\n",
    "for date in movie_date:\n",
    "    print(\"%s %s\" % (date.p.string, date.h3.string))"
   ]
  },
  {
   "cell_type": "markdown",
   "metadata": {},
   "source": [
    "### 最後指定觀看的日期，查詢並列印出放映的電影院、放映類型(數位、3D、IMAX 3D...)、放映時間等資訊。"
   ]
  },
  {
   "cell_type": "code",
   "execution_count": 23,
   "metadata": {},
   "outputs": [],
   "source": [
    "# 選定要觀看的日期\n",
    "date = \"2020-08-24\""
   ]
  },
  {
   "cell_type": "code",
   "execution_count": 24,
   "metadata": {},
   "outputs": [],
   "source": [
    "# 向網站發送請求，獲取上映的電影院及時間資訊\n",
    "url = \"https://movies.yahoo.com.tw/ajax/pc/get_schedule_by_movie\"\n",
    "payload = {'movie_id':str(movie_id),\n",
    "           'date':date,\n",
    "           'area_id':str(area_id),\n",
    "           'theater_id':'',\n",
    "           'datetime':'',\n",
    "           'movie_type_id':''}\n",
    "\n",
    "resp = requests.get(url, params=payload)\n",
    "#print(resp.json()['view'])  # 若有需要，列印出json原始碼\n",
    "\n",
    "soup = BeautifulSoup(resp.json()['view'], 'lxml')\n",
    "html = soup.find_all(\"ul\", attrs={'data-theater_name':re.compile(\".*\")})"
   ]
  },
  {
   "cell_type": "code",
   "execution_count": 25,
   "metadata": {},
   "outputs": [
    {
     "name": "stdout",
     "output_type": "stream",
     "text": [
      "台北日新威秀影城\n",
      "台北信義威秀影城\n",
      "京站威秀影城\n",
      "MUVIE CINEMAS台北松仁威秀\n"
     ]
    }
   ],
   "source": [
    "for h in html:\n",
    "    print(h['data-theater_name'])"
   ]
  },
  {
   "cell_type": "code",
   "execution_count": 26,
   "metadata": {},
   "outputs": [
    {
     "name": "stdout",
     "output_type": "stream",
     "text": [
      "===\n",
      "<input class=\"gabtn\" data-cinema=\"40288eb0050f542401050f551a8a48c3\" data-date=\"1598198400\" data-ezding=\"ezding\" data-ga=\"['電影頁_時刻表', '電影頁_時刻表_場次', 'Fate/stay night [Heaven's Feel] III.春櫻之歌']\" data-movie=\"b368bde8085447e8860cd7f6a30a1d94\" data-movie_date=\"08.24\" data-movie_time=\"11:50\" data-movie_title=\"Fate/stay night [Heaven's Feel] III.春櫻之歌\" data-movie_type=\"數位\" data-session=\"e07948d5e394457bbcca1cdf9ccee733\" data-time=\"1598241000\" id=\"73991044\" name=\"schedule_list\" type=\"radio\" value=\"2020-08-24 11:50:00\"/>\n",
      "---\n",
      "2020-08-24 11:50:00\n",
      "===\n",
      "<input class=\"gabtn\" data-cinema=\"40288eb0050f542401050f554e7e0674\" data-date=\"1598198400\" data-ezding=\"ezding\" data-ga=\"['電影頁_時刻表', '電影頁_時刻表_場次', 'Fate/stay night [Heaven's Feel] III.春櫻之歌']\" data-movie=\"f31db4dc30754ef69dbeca6ba13db489\" data-movie_date=\"08.24\" data-movie_time=\"10:05\" data-movie_title=\"Fate/stay night [Heaven's Feel] III.春櫻之歌\" data-movie_type=\"數位\" data-session=\"98c6f8300b3a4f658b484484ab4c0c5a\" data-time=\"1598234700\" id=\"73993366\" name=\"schedule_list\" type=\"radio\" value=\"2020-08-24 10:05:00\"/>\n",
      "---\n",
      "2020-08-24 10:05:00\n",
      "===\n",
      "<input class=\"gabtn\" data-cinema=\"5f60dacd-45b3-102d-8d74-e400529c\" data-date=\"1598198400\" data-ezding=\"ezding\" data-ga=\"['電影頁_時刻表', '電影頁_時刻表_場次', 'Fate/stay night [Heaven's Feel] III.春櫻之歌']\" data-movie=\"1764f36b22394d51a8e1b60544fabca9\" data-movie_date=\"08.24\" data-movie_time=\"09:40\" data-movie_title=\"Fate/stay night [Heaven's Feel] III.春櫻之歌\" data-movie_type=\"數位\" data-session=\"6ed782fd36a4492b9dbdcb606bf3fe7c\" data-time=\"1598233200\" id=\"73989934\" name=\"schedule_list\" type=\"radio\" value=\"2020-08-24 09:40:00\"/>\n",
      "---\n",
      "2020-08-24 09:40:00\n",
      "===\n",
      "<input class=\"gabtn\" data-cinema=\"470e99e70b5611eaa91e06ba2bcebcfa\" data-date=\"1598198400\" data-ezding=\"ezding\" data-ga=\"['電影頁_時刻表', '電影頁_時刻表_場次', 'Fate/stay night [Heaven's Feel] III.春櫻之歌']\" data-movie=\"b9e89efc46b74955bb006f4e43821ac0\" data-movie_date=\"08.24\" data-movie_time=\"10:20\" data-movie_title=\"Fate/stay night [Heaven's Feel] III.春櫻之歌\" data-movie_type=\"數位\" data-session=\"bba4a685b29b4301b5b61695f663b739\" data-time=\"1598235600\" id=\"73990916\" name=\"schedule_list\" type=\"radio\" value=\"2020-08-24 10:20:00\"/>\n",
      "---\n",
      "2020-08-24 10:20:00\n"
     ]
    }
   ],
   "source": [
    "for h in html:\n",
    "    print('===')\n",
    "    print(h.find('input'))\n",
    "    print('---')\n",
    "    print(h.find('input')['value'])"
   ]
  },
  {
   "cell_type": "code",
   "execution_count": 27,
   "metadata": {},
   "outputs": [
    {
     "name": "stdout",
     "output_type": "stream",
     "text": [
      "Time: 2020-08-24 11:50:00 Type: 數位 Theater: 台北日新威秀影城\n",
      "Time: 2020-08-24 10:05:00 Type: 數位 Theater: 台北信義威秀影城\n",
      "Time: 2020-08-24 09:40:00 Type: 數位 Theater: 京站威秀影城\n",
      "Time: 2020-08-24 10:20:00 Type: 數位 Theater: MUVIE CINEMAS台北松仁威秀\n"
     ]
    }
   ],
   "source": [
    "'''\n",
    "  試著從上一步驟回傳的電影院資料中，擷取電影院名稱、影片放映類型以及時間表\n",
    "'''\n",
    "for h in html:\n",
    "    theater = h['data-theater_name']\n",
    "    time = h.find('input')['value']\n",
    "    t = h.find('li', attrs={'class':\"taps\"})\n",
    "    print(\"Time:\", time, \"Type:\", t.find('span').text, \"Theater:\", theater)"
   ]
  }
 ],
 "metadata": {
  "kernelspec": {
   "display_name": "Python 3",
   "language": "python",
   "name": "python3"
  },
  "language_info": {
   "codemirror_mode": {
    "name": "ipython",
    "version": 3
   },
   "file_extension": ".py",
   "mimetype": "text/x-python",
   "name": "python",
   "nbconvert_exporter": "python",
   "pygments_lexer": "ipython3",
   "version": "3.7.6"
  }
 },
 "nbformat": 4,
 "nbformat_minor": 4
}
