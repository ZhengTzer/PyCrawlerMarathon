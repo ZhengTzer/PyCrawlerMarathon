{
 "cells": [
  {
   "cell_type": "markdown",
   "metadata": {},
   "source": [
    "# PTT 網路爬蟲實作練習\n",
    "\n",
    "\n",
    "* 能夠利用 Request + BeatifulSour 撰寫爬蟲，並存放到合適的資料結構\n"
   ]
  },
  {
   "cell_type": "code",
   "execution_count": 1,
   "metadata": {},
   "outputs": [],
   "source": [
    "import requests\n",
    "from bs4 import BeautifulSoup"
   ]
  },
  {
   "cell_type": "code",
   "execution_count": 2,
   "metadata": {},
   "outputs": [],
   "source": [
    "url = 'https://www.ptt.cc/bbs/NBA/index.html'\n",
    "r = requests.get(url)\n",
    "\n",
    "soup = BeautifulSoup(r.text, \"html5lib\")"
   ]
  },
  {
   "cell_type": "code",
   "execution_count": 3,
   "metadata": {},
   "outputs": [
    {
     "data": {
      "text/plain": [
       "['    <div class=\"r-ent\">',\n",
       " '     <div class=\"nrec\">',\n",
       " '      <span class=\"hl f3\">',\n",
       " '       59',\n",
       " '      </span>',\n",
       " '     </div>',\n",
       " '     <div class=\"title\">',\n",
       " '      <a href=\"/bbs/NBA/M.1596417547.A.D2C.html\">',\n",
       " '       [情報]魔術前鋒Jonathan Isaac將接受左膝MRI檢查',\n",
       " '      </a>',\n",
       " '     </div>',\n",
       " '     <div class=\"meta\">',\n",
       " '      <div class=\"author\">',\n",
       " '       Muma5566',\n",
       " '      </div>',\n",
       " '      <div class=\"article-menu\">',\n",
       " '       <div class=\"trigger\">',\n",
       " '        ⋯',\n",
       " '       </div>',\n",
       " '       <div class=\"dropdown\">',\n",
       " '        <div class=\"item\">',\n",
       " '         <a href=\"/bbs/NBA/search?q=thread%3A%5B%E6%83%85%E5%A0%B1%5D%E9%AD%94%E8%A1%93%E5%89%8D%E9%8B%92Jonathan+Isaac%E5%B0%87%E6%8E%A5%E5%8F%97%E5%B7%A6%E8%86%9DMRI%E6%AA%A2%E6%9F%A5\">',\n",
       " '          搜尋同標題文章',\n",
       " '         </a>',\n",
       " '        </div>',\n",
       " '        <div class=\"item\">',\n",
       " '         <a href=\"/bbs/NBA/search?q=author%3AMuma5566\">',\n",
       " '          搜尋看板內 Muma5566 的文章',\n",
       " '         </a>',\n",
       " '        </div>',\n",
       " '       </div>',\n",
       " '      </div>',\n",
       " '      <div class=\"date\">',\n",
       " '       8/03',\n",
       " '      </div>',\n",
       " '      <div class=\"mark\">',\n",
       " '      </div>',\n",
       " '     </div>',\n",
       " '    </div>',\n",
       " '    <div class=\"r-ent\">',\n",
       " '     <div class=\"nrec\">',\n",
       " '      <span class=\"hl f1\">',\n",
       " '       爆',\n",
       " '      </span>',\n",
       " '     </div>',\n",
       " '     <div class=\"title\">',\n",
       " '      <a href=\"/bbs/NBA/M.1596424422.A.770.html\">',\n",
       " '       [BOX ] Bucks 116:120 Rockets 數據',\n",
       " '      </a>',\n",
       " '     </div>']"
      ]
     },
     "execution_count": 3,
     "metadata": {},
     "output_type": "execute_result"
    }
   ],
   "source": [
    "result = soup.prettify().splitlines()\n",
    "result[70:120]"
   ]
  },
  {
   "cell_type": "markdown",
   "metadata": {},
   "source": [
    "## 作業目標\n",
    "\n",
    "根據範例 ，完成以下問題：\n",
    "\n",
    "* ① 印出最新文章的「作者」「標題」「時間」\n",
    "* ② 印出第一頁所有文章的「作者」「標題」「時間」\n"
   ]
  },
  {
   "cell_type": "markdown",
   "metadata": {},
   "source": [
    "### ① 印出最新文章的「作者」「標題」「時間」"
   ]
  },
  {
   "cell_type": "code",
   "execution_count": 4,
   "metadata": {},
   "outputs": [
    {
     "data": {
      "text/html": [
       "<div>\n",
       "<style scoped>\n",
       "    .dataframe tbody tr th:only-of-type {\n",
       "        vertical-align: middle;\n",
       "    }\n",
       "\n",
       "    .dataframe tbody tr th {\n",
       "        vertical-align: top;\n",
       "    }\n",
       "\n",
       "    .dataframe thead th {\n",
       "        text-align: right;\n",
       "    }\n",
       "</style>\n",
       "<table border=\"1\" class=\"dataframe\">\n",
       "  <thead>\n",
       "    <tr style=\"text-align: right;\">\n",
       "      <th></th>\n",
       "      <th>tag</th>\n",
       "      <th>title</th>\n",
       "      <th>author</th>\n",
       "    </tr>\n",
       "  </thead>\n",
       "  <tbody>\n",
       "    <tr>\n",
       "      <th>0</th>\n",
       "      <td>[情報]魔術前鋒Jonathan Isaac將接受左膝MRI檢查</td>\n",
       "      <td>[html, [[\\n\\t\\t, &lt;meta charset=\"utf-8\"/&gt;, \\n\\t...</td>\n",
       "      <td>Muma5566 (木馬56)</td>\n",
       "    </tr>\n",
       "    <tr>\n",
       "      <th>1</th>\n",
       "      <td>[討論] 公鹿打火箭最後怎麼不給大羅穩穩推?</td>\n",
       "      <td>[html, [[\\n\\t\\t, &lt;meta charset=\"utf-8\"/&gt;, \\n\\t...</td>\n",
       "      <td>dro001 (風雲)</td>\n",
       "    </tr>\n",
       "    <tr>\n",
       "      <th>2</th>\n",
       "      <td>[情報] Jonathan Isaac 左膝ACL撕裂</td>\n",
       "      <td>[html, [[\\n\\t\\t, &lt;meta charset=\"utf-8\"/&gt;, \\n\\t...</td>\n",
       "      <td>Wojnarowski (@wojespn)</td>\n",
       "    </tr>\n",
       "    <tr>\n",
       "      <th>3</th>\n",
       "      <td>[討論] 最後一波進攻叫暫停與否的選擇？</td>\n",
       "      <td>[html, [[\\n\\t\\t, &lt;meta charset=\"utf-8\"/&gt;, \\n\\t...</td>\n",
       "      <td>ryanchen8582 (亞洲肥神)</td>\n",
       "    </tr>\n",
       "    <tr>\n",
       "      <th>4</th>\n",
       "      <td>[情報] 公鹿成首支得110分、贏25個板、對手FG%低</td>\n",
       "      <td>[html, [[\\n\\t\\t, &lt;meta charset=\"utf-8\"/&gt;, \\n\\t...</td>\n",
       "      <td>wwf1588 (s-n-imn)</td>\n",
       "    </tr>\n",
       "  </tbody>\n",
       "</table>\n",
       "</div>"
      ],
      "text/plain": [
       "                                tag  \\\n",
       "0  [情報]魔術前鋒Jonathan Isaac將接受左膝MRI檢查   \n",
       "1            [討論] 公鹿打火箭最後怎麼不給大羅穩穩推?   \n",
       "2       [情報] Jonathan Isaac 左膝ACL撕裂   \n",
       "3              [討論] 最後一波進攻叫暫停與否的選擇？   \n",
       "4      [情報] 公鹿成首支得110分、贏25個板、對手FG%低   \n",
       "\n",
       "                                               title                  author  \n",
       "0  [html, [[\\n\\t\\t, <meta charset=\"utf-8\"/>, \\n\\t...         Muma5566 (木馬56)  \n",
       "1  [html, [[\\n\\t\\t, <meta charset=\"utf-8\"/>, \\n\\t...             dro001 (風雲)  \n",
       "2  [html, [[\\n\\t\\t, <meta charset=\"utf-8\"/>, \\n\\t...  Wojnarowski (@wojespn)  \n",
       "3  [html, [[\\n\\t\\t, <meta charset=\"utf-8\"/>, \\n\\t...     ryanchen8582 (亞洲肥神)  \n",
       "4  [html, [[\\n\\t\\t, <meta charset=\"utf-8\"/>, \\n\\t...       wwf1588 (s-n-imn)  "
      ]
     },
     "execution_count": 4,
     "metadata": {},
     "output_type": "execute_result"
    }
   ],
   "source": [
    "import pandas as pd\n",
    "\n",
    "df = []\n",
    "for d in soup.find_all(class_=\"title\"):\n",
    "    x = d.text.replace('\\t', '').replace('\\n', '')\n",
    "    try:\n",
    "        r = BeautifulSoup(requests.get('https://www.ptt.cc'+d.find('a')['href']).text, \"html5lib\")\n",
    "        y =  r.find(class_='article-meta-value').text\n",
    "        d = {}\n",
    "        d['tag'] =  x\n",
    "        d['title'] = r\n",
    "        d['author'] = y\n",
    "        df.append(d)\n",
    "    except:\n",
    "        continue\n",
    "        \n",
    "df = pd.DataFrame(df)\n",
    "df.head()"
   ]
  },
  {
   "cell_type": "markdown",
   "metadata": {},
   "source": [
    "### ② 印出第一頁所有文章的「作者」「標題」「時間」"
   ]
  },
  {
   "cell_type": "code",
   "execution_count": null,
   "metadata": {},
   "outputs": [],
   "source": [
    "'''\n",
    "Your Code\n",
    "'''"
   ]
  },
  {
   "cell_type": "markdown",
   "metadata": {},
   "source": [
    "### ③ 試著爬爬看其他版的文章"
   ]
  },
  {
   "cell_type": "code",
   "execution_count": null,
   "metadata": {},
   "outputs": [],
   "source": [
    "'''\n",
    "Your Code\n",
    "'''"
   ]
  }
 ],
 "metadata": {
  "kernelspec": {
   "display_name": "Python 3",
   "language": "python",
   "name": "python3"
  },
  "language_info": {
   "codemirror_mode": {
    "name": "ipython",
    "version": 3
   },
   "file_extension": ".py",
   "mimetype": "text/x-python",
   "name": "python",
   "nbconvert_exporter": "python",
   "pygments_lexer": "ipython3",
   "version": "3.7.6"
  }
 },
 "nbformat": 4,
 "nbformat_minor": 4
}
