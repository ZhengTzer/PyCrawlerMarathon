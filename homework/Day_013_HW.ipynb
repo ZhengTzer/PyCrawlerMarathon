{
 "cells": [
  {
   "cell_type": "markdown",
   "metadata": {},
   "source": [
    "# PTT 網路爬蟲實作練習\n",
    "\n",
    "\n",
    "* 能夠利用 Request + BeatifulSour 撰寫爬蟲，並存放到合適的資料結構\n"
   ]
  },
  {
   "cell_type": "code",
   "execution_count": 2,
   "metadata": {},
   "outputs": [],
   "source": [
    "import requests\n",
    "from bs4 import BeautifulSoup\n",
    "\n",
    "url = 'https://www.ptt.cc/bbs/Stock/index.html'\n",
    "r = requests.get(url)\n",
    "\n",
    "soup = BeautifulSoup(r.text, \"html5lib\")"
   ]
  },
  {
   "cell_type": "markdown",
   "metadata": {},
   "source": [
    "## 作業目標\n",
    "\n",
    "根據範例 ，完成以下問題：\n",
    "\n",
    "* ① 印出最新文章的「作者」「標題」「時間」\n",
    "* ② 印出第一頁所有文章的「作者」「標題」「時間」\n"
   ]
  },
  {
   "cell_type": "markdown",
   "metadata": {},
   "source": [
    "### ① 印出最新文章的「作者」「標題」「時間」"
   ]
  },
  {
   "cell_type": "code",
   "execution_count": 3,
   "metadata": {},
   "outputs": [
    {
     "name": "stdout",
     "output_type": "stream",
     "text": [
      "標題：  [心得] 4種 8月進場布局台積電的方式\n",
      "作者：  Redhood\n",
      "時間：   8/03\n",
      "標題：  [心得]股市崩盤前值得觀察總經指標（附對帳單）\n",
      "作者：  stanley10\n",
      "時間：   8/03\n",
      "標題：  Re:[其他]縱橫股海-Line貼圖贈送!(公佈中獎名單)\n",
      "作者：  bellyisfunny\n",
      "時間：   8/03\n",
      "標題：  [請益] 房貸500萬來投入金融股存股，可行性？\n",
      "作者：  mandy2092\n",
      "時間：   8/03\n",
      "標題：  [新聞] 同事狂聊股票！女問「32歲不懂很丟臉？」\n",
      "作者：  qwe22992168\n",
      "時間：   8/03\n",
      "標題：  [標的]4919新唐 (PS5概念股.本周有望開放預購\n",
      "作者：  DouDouMM\n",
      "時間：   8/03\n",
      "標題：  [新聞] 普生 公告本公司GB SARS-CoV-2 Ab ELISA\n",
      "作者：  cocopupu\n",
      "時間：   8/03\n",
      "標題：  4-2-1(已被BreezeCat刪除) <alzard>\n",
      "作者：  -\n",
      "時間：   8/03\n",
      "標題：  Re: [請益] 房貸500萬來投入金融股存股，可行性？\n",
      "作者：  Tosca\n",
      "時間：   8/03\n",
      "標題：  [其他] 109年08月03日信用交易統計\n",
      "作者：  steward135\n",
      "時間：   8/03\n",
      "標題：  Re: [新聞] 印度力拚手機產業 鴻海緯創和碩申請獎勵\n",
      "作者：  NoAfraid\n",
      "時間：   8/03\n",
      "標題：  Re: [請益] 房貸500萬來投入金融股存股，可行性？\n",
      "作者：  suck9527\n",
      "時間：   8/03\n",
      "標題：  Re: [請益] 房貸500萬來投入金融股存股，可行性\n",
      "作者：  kusomanfcu\n",
      "時間：   8/03\n",
      "標題：  Re: [新聞] 同事狂聊股票！女問「32歲不懂很丟臉？」\n",
      "作者：  Savior09\n",
      "時間：   8/03\n",
      "標題：  [標的] 三商2905 多\n",
      "作者：  monkeyking18\n",
      "時間：   8/03\n",
      "標題：  [新聞] 張一鳴：不認同出售TikTok美國業務 最終\n",
      "作者：  mOoOm\n",
      "時間：   8/03\n",
      "標題：  [請益] 有\"用心不交易\"更進階的書嗎？\n",
      "作者：  Cyborg\n",
      "時間：   8/03\n",
      "標題：  Re: [標的]  ACMR 半導體設備商\n",
      "作者：  Manzini\n",
      "時間：   8/03\n",
      "標題：  (本文已被刪除) [agentina]\n",
      "作者：  -\n",
      "時間：   8/03\n",
      "標題：  [公告] 精華區導覽Q&A\n",
      "作者：  IanLi\n",
      "時間：   1/25\n",
      "標題：  [公告] 關於[創作]分類 每日全板限額5篇\n",
      "作者：  BreezeCat\n",
      "時間：   7/20\n",
      "標題：  [公告] Stock 板規V2.7\n",
      "作者：  eyespot\n",
      "時間：  11/03\n",
      "標題：  [閒聊] 2020/08/03 盤後閒聊\n",
      "作者：  vendan5566\n",
      "時間：   8/03\n"
     ]
    }
   ],
   "source": [
    "for d in soup.find_all(class_=\"r-ent\"):\n",
    "    print('標題： ', d.find(class_='title').text.replace('\\t', '').replace('\\n', ''))\n",
    "    print('作者： ', d.find(class_='author').text.replace('\\t', '').replace('\\n', ''))\n",
    "    print('時間： ', d.find(class_='date').text.replace('\\t', '').replace('\\n', ''))"
   ]
  },
  {
   "cell_type": "markdown",
   "metadata": {},
   "source": [
    "### ② 印出第一頁所有文章的「作者」「標題」「時間」"
   ]
  },
  {
   "cell_type": "code",
   "execution_count": 4,
   "metadata": {},
   "outputs": [
    {
     "data": {
      "text/plain": [
       "{'標題': '[公告] 精華區導覽Q&A',\n",
       " '作者': 'IanLi (IanLi)',\n",
       " '時間': 'Sun Jan 25 23:18:20 2015'}"
      ]
     },
     "execution_count": 4,
     "metadata": {},
     "output_type": "execute_result"
    }
   ],
   "source": [
    "posts = []\n",
    "\n",
    "for d in soup.find_all(class_=\"title\"):\n",
    "    try:\n",
    "        post = {}\n",
    "        post['標題'] = d.text.replace('\\t', '').replace('\\n', '')\n",
    "        \n",
    "        r = BeautifulSoup(requests.get('https://www.ptt.cc'+d.find('a')['href']).text, \"html5lib\")\n",
    "        post['作者'] = r.find(class_='article-meta-value').text\n",
    "        post['時間'] = r.find_all(class_='article-meta-value')[-1].text\n",
    "        \n",
    "        posts.append(post)\n",
    "    except:\n",
    "        continue\n",
    "        \n",
    "posts = sorted(posts, key= lambda x: x['時間'])\n",
    "posts[-1]"
   ]
  },
  {
   "cell_type": "markdown",
   "metadata": {},
   "source": [
    "### ③ 試著爬爬看其他版的文章"
   ]
  },
  {
   "cell_type": "code",
   "execution_count": 5,
   "metadata": {},
   "outputs": [
    {
     "data": {
      "text/plain": [
       "{'標題': '[公告] 農遊/客庄/藝fun/動滋券集中討論文',\n",
       " '作者': 'medama ( )',\n",
       " '時間': 'Wed Jul 22 00:09:16 2020'}"
      ]
     },
     "execution_count": 5,
     "metadata": {},
     "output_type": "execute_result"
    }
   ],
   "source": [
    "import requests\n",
    "from bs4 import BeautifulSoup\n",
    "\n",
    "url = 'https://www.ptt.cc/bbs/Lifeismoney/index.html'\n",
    "r = requests.get(url)\n",
    "\n",
    "soup = BeautifulSoup(r.text, \"html5lib\")\n",
    "\n",
    "posts = []\n",
    "\n",
    "for d in soup.find_all(class_=\"title\"):\n",
    "    try:\n",
    "        post = {}\n",
    "        post['標題'] = d.text.replace('\\t', '').replace('\\n', '')\n",
    "        \n",
    "        r = BeautifulSoup(requests.get('https://www.ptt.cc'+d.find('a')['href']).text, \"html5lib\")\n",
    "        post['作者'] = r.find(class_='article-meta-value').text\n",
    "        post['時間'] = r.find_all(class_='article-meta-value')[-1].text\n",
    "        \n",
    "        posts.append(post)\n",
    "    except:\n",
    "        continue\n",
    "        \n",
    "posts = sorted(posts, key= lambda x: x['時間'])\n",
    "posts[-1]"
   ]
  }
 ],
 "metadata": {
  "kernelspec": {
   "display_name": "Python 3",
   "language": "python",
   "name": "python3"
  },
  "language_info": {
   "codemirror_mode": {
    "name": "ipython",
    "version": 3
   },
   "file_extension": ".py",
   "mimetype": "text/x-python",
   "name": "python",
   "nbconvert_exporter": "python",
   "pygments_lexer": "ipython3",
   "version": "3.7.6"
  }
 },
 "nbformat": 4,
 "nbformat_minor": 4
}
